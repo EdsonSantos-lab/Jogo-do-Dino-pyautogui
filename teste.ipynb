{
 "cells": [
  {
   "cell_type": "code",
   "execution_count": null,
   "metadata": {},
   "outputs": [],
   "source": [
    "import pyautogui\n",
    "import time\n",
    "t = time.sleep(1)\n",
    "\n",
    "import pyautogui\n",
    "import time\n",
    "\n",
    "while True:\n",
    "    corbranco = pyautogui.pixel(246 , 335)\n",
    "    \n",
    "    # Captura a posição atual do mouse\n",
    "    x, y = pyautogui.position()\n",
    "\n",
    "    # Obtém a cor do pixel nessa posição\n",
    "    cor = pyautogui.pixel(x, y)\n",
    "    \n",
    "    \n",
    "\n",
    "\n",
    "    \n",
    "    if  corbranco != cor:\n",
    "     pyautogui.click(312 , 348)\n",
    "    else:\n",
    "     print('algo de errado')   \n",
    "     \n",
    "\n",
    "\n",
    "\n",
    "      \n"
   ]
  },
  {
   "cell_type": "code",
   "execution_count": 42,
   "metadata": {},
   "outputs": [
    {
     "name": "stdout",
     "output_type": "stream",
     "text": [
      "(83, 83, 83)\n"
     ]
    }
   ],
   "source": [
    "\n",
    "cor = pyautogui.pixel(473 , 330)\n",
    "\n",
    "print(cor)"
   ]
  }
 ],
 "metadata": {
  "kernelspec": {
   "display_name": "Python 3",
   "language": "python",
   "name": "python3"
  },
  "language_info": {
   "codemirror_mode": {
    "name": "ipython",
    "version": 3
   },
   "file_extension": ".py",
   "mimetype": "text/x-python",
   "name": "python",
   "nbconvert_exporter": "python",
   "pygments_lexer": "ipython3",
   "version": "3.12.8"
  }
 },
 "nbformat": 4,
 "nbformat_minor": 2
}
